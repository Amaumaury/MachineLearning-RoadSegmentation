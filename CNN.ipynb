{
 "cells": [
  {
   "cell_type": "code",
   "execution_count": null,
   "metadata": {
    "scrolled": false
   },
   "outputs": [],
   "source": [
    "import time\n",
    "\n",
    "import matplotlib.image as mpimg\n",
    "import matplotlib.pyplot as plt\n",
    "%matplotlib inline\n",
    "%load_ext autoreload\n",
    "%autoreload 2\n",
    "import numpy as np\n",
    "\n",
    "import os, sys\n",
    "\n",
    "from preprocessing import *\n",
    "import image_preprocessing\n",
    "\n",
    "from skimage import color\n",
    "\n",
    "import keras\n",
    "\n",
    "from skimage.color import rgb2hsv\n",
    "\n",
    "from keras.layers import Conv2D, Dense, Flatten, MaxPooling2D, LeakyReLU, Dropout"
   ]
  },
  {
   "cell_type": "code",
   "execution_count": null,
   "metadata": {
    "collapsed": true
   },
   "outputs": [],
   "source": [
    "ROOT_DIR = 'training/'\n",
    "IMAGE_DIR = ROOT_DIR + 'images/'\n",
    "GT_DIR = ROOT_DIR + 'groundtruth/'\n",
    "\n",
    "PATCH_SIZE = 10\n",
    "\n",
    "WINDOW_SIZE = 71"
   ]
  },
  {
   "cell_type": "code",
   "execution_count": null,
   "metadata": {
    "scrolled": true
   },
   "outputs": [],
   "source": [
    "files = os.listdir(IMAGE_DIR)\n",
    "\n",
    "imgs = np.stack([load_image(IMAGE_DIR + file) for file in files]) # images (400, 400, 3)\n",
    "gt_imgs = np.stack([load_image(GT_DIR + file) for file in files]) # images (400, 400)\n",
    "\n",
    "patched_imgs = np.stack([patch_image(img, PATCH_SIZE) for img in imgs]) # images (400, 400)\n",
    "patched_gts = np.stack([patch_groundtruth(gt, PATCH_SIZE) for gt in gt_imgs])"
   ]
  },
  {
   "cell_type": "code",
   "execution_count": null,
   "metadata": {},
   "outputs": [],
   "source": [
    "PATCHED_SIZE = imgs.shape[1] // PATCH_SIZE\n",
    "WINDOWS_PER_IMAGE = PATCHED_SIZE ** 2"
   ]
  },
  {
   "cell_type": "code",
   "execution_count": null,
   "metadata": {
    "collapsed": true,
    "scrolled": true
   },
   "outputs": [],
   "source": [
    "N = 1 # Number of image to be used in training\n",
    "\n",
    "leakyness = 0.1"
   ]
  },
  {
   "cell_type": "code",
   "execution_count": null,
   "metadata": {
    "collapsed": true,
    "scrolled": true
   },
   "outputs": [],
   "source": [
    "windows_per_image = [image_to_neighborhoods(im, WINDOW_SIZE, True) for im in patched_imgs[:N]]\n",
    "windows = np.vstack(windows_per_image)\n",
    "\n",
    "window_labels = np.ravel(patched_gts[:N])\n",
    "assert window_labels.shape[0] == windows.shape[0]"
   ]
  },
  {
   "cell_type": "code",
   "execution_count": null,
   "metadata": {},
   "outputs": [],
   "source": [
    "window_labels.shape"
   ]
  },
  {
   "cell_type": "code",
   "execution_count": null,
   "metadata": {
    "collapsed": true
   },
   "outputs": [],
   "source": [
    "window_labels = keras.utils.np_utils.to_categorical(window_labels)"
   ]
  },
  {
   "cell_type": "code",
   "execution_count": null,
   "metadata": {
    "collapsed": true,
    "scrolled": true
   },
   "outputs": [],
   "source": [
    "window_cnn = keras.models.Sequential([\n",
    "    \n",
    "    Conv2D(32, (5, 5), strides=(1, 1), input_shape=windows.shape[1:]),\n",
    "    LeakyReLU(leakyness),\n",
    "    \n",
    "    MaxPooling2D(2),\n",
    "    Dropout(0.25),\n",
    "\n",
    "    Conv2D(64, (3, 3), strides=(1, 1)),\n",
    "    LeakyReLU(leakyness),\n",
    "    \n",
    "    MaxPooling2D(2),\n",
    "    Dropout(0.25),\n",
    "    \n",
    "    Conv2D(128, (3, 3), strides=(1, 1)),\n",
    "    LeakyReLU(leakyness),\n",
    "    \n",
    "    MaxPooling2D(2),\n",
    "    Dropout(0.25),\n",
    "    \n",
    "    Conv2D(256, (3, 3), strides=(1, 1)),\n",
    "    LeakyReLU(leakyness),\n",
    "\n",
    "    MaxPooling2D(2),\n",
    "    Dropout(0.25),\n",
    "    \n",
    "    Dense(128),\n",
    "    LeakyReLU(leakyness),\n",
    "    \n",
    "    Flatten(),\n",
    "    Dense(2, activation='sigmoid'),\n",
    "])"
   ]
  },
  {
   "cell_type": "code",
   "execution_count": null,
   "metadata": {
    "collapsed": true,
    "scrolled": false
   },
   "outputs": [],
   "source": [
    "#window_cnn.summary()"
   ]
  },
  {
   "cell_type": "code",
   "execution_count": null,
   "metadata": {
    "collapsed": true,
    "scrolled": true
   },
   "outputs": [],
   "source": [
    "window_cnn.compile(loss=keras.losses.categorical_crossentropy, optimizer=keras.optimizers.Adam(lr=0.001), metrics=['accuracy'])"
   ]
  },
  {
   "cell_type": "code",
   "execution_count": null,
   "metadata": {
    "collapsed": true,
    "scrolled": true
   },
   "outputs": [],
   "source": [
    "nw = windows.shape[0]\n",
    "def batch_generator():\n",
    "    i = 0\n",
    "    while True:\n",
    "        print('Called', i)\n",
    "        i+=1\n",
    "        indices = np.random.choice(range(nw), 200, replace=False)\n",
    "        yield (windows[indices], window_labels[indices])"
   ]
  },
  {
   "cell_type": "code",
   "execution_count": null,
   "metadata": {
    "collapsed": true
   },
   "outputs": [],
   "source": [
    "def smart_generator(n_windows, n_epochs):\n",
    "    ws_per_epoch = n_windows // n_epochs\n",
    "    indices = np.random.choice(range(n_windows), n_epochs*ws_per_epoch, replace=False)\n",
    "    indices_per_epoch = [indices[i:i+ws_per_epoch] for i in range(0, n_windows, ws_per_epoch)]\n",
    "    for batch_idx in indices_per_epoch:\n",
    "        print(len(batch_idx))\n",
    "        ws = windows[batch_idx]\n",
    "        labs = window_labels[batch_idx]\n",
    "        yield (ws, labs)"
   ]
  },
  {
   "cell_type": "code",
   "execution_count": null,
   "metadata": {
    "collapsed": true
   },
   "outputs": [],
   "source": [
    "epochs = 10"
   ]
  },
  {
   "cell_type": "code",
   "execution_count": null,
   "metadata": {
    "scrolled": false
   },
   "outputs": [],
   "source": [
    "start = time.perf_counter()\n",
    "\n",
    "window_cnn.fit(windows, window_labels, epochs=epochs)#, batch_size=1600)\n",
    "#window_cnn.fit_generator(smart_generator(windows.shape[0], epochs), steps_per_epoch=windows.shape[0] // epochs, epochs=10)\n",
    "\n",
    "time.perf_counter() - start"
   ]
  },
  {
   "cell_type": "code",
   "execution_count": null,
   "metadata": {
    "collapsed": true
   },
   "outputs": [],
   "source": [
    "#window_cnn.save('backup')"
   ]
  },
  {
   "cell_type": "markdown",
   "metadata": {},
   "source": [
    "# Test on a never seen image"
   ]
  },
  {
   "cell_type": "code",
   "execution_count": null,
   "metadata": {
    "collapsed": true
   },
   "outputs": [],
   "source": [
    "i = 0"
   ]
  },
  {
   "cell_type": "code",
   "execution_count": null,
   "metadata": {},
   "outputs": [],
   "source": [
    "plt.imshow(imgs[i])"
   ]
  },
  {
   "cell_type": "code",
   "execution_count": null,
   "metadata": {
    "collapsed": true
   },
   "outputs": [],
   "source": [
    "window_t = image_to_neighborhoods(patched_imgs[i], WINDOW_SIZE, True)"
   ]
  },
  {
   "cell_type": "code",
   "execution_count": null,
   "metadata": {
    "collapsed": true,
    "scrolled": true
   },
   "outputs": [],
   "source": [
    "preds = window_cnn.predict(window_t)"
   ]
  },
  {
   "cell_type": "code",
   "execution_count": null,
   "metadata": {
    "scrolled": true
   },
   "outputs": [],
   "source": [
    "plt.plot(np.sort(np.ravel(preds)))"
   ]
  },
  {
   "cell_type": "code",
   "execution_count": null,
   "metadata": {
    "collapsed": true
   },
   "outputs": [],
   "source": [
    "preds = (preds[:,1] > preds[:,0]) * 1"
   ]
  },
  {
   "cell_type": "code",
   "execution_count": null,
   "metadata": {
    "collapsed": true,
    "scrolled": false
   },
   "outputs": [],
   "source": [
    "f = preds\n",
    "f = np.reshape(f, (PATCHED_SIZE, PATCHED_SIZE))"
   ]
  },
  {
   "cell_type": "code",
   "execution_count": null,
   "metadata": {
    "scrolled": true
   },
   "outputs": [],
   "source": [
    "plt.imshow(patched_gts[i], cmap='Greys_r')"
   ]
  },
  {
   "cell_type": "code",
   "execution_count": null,
   "metadata": {
    "scrolled": true
   },
   "outputs": [],
   "source": [
    "plt.imshow(f, cmap='Greys_r')"
   ]
  },
  {
   "cell_type": "code",
   "execution_count": null,
   "metadata": {
    "scrolled": true
   },
   "outputs": [],
   "source": [
    "plt.imshow(np.hstack([patched_gts[i], f]), cmap='Greys_r')"
   ]
  },
  {
   "cell_type": "markdown",
   "metadata": {},
   "source": [
    "# Test data set"
   ]
  },
  {
   "cell_type": "code",
   "execution_count": null,
   "metadata": {
    "collapsed": true
   },
   "outputs": [],
   "source": [
    "TEST_DIR = 'test_set_images/'\n",
    "test_files = os.listdir(TEST_DIR)\n",
    "\n",
    "test_imgs = [load_image(TEST_DIR + file + '/' + file + '.png') for file in test_files]"
   ]
  },
  {
   "cell_type": "code",
   "execution_count": null,
   "metadata": {
    "collapsed": true
   },
   "outputs": [],
   "source": [
    "patched_tests = np.stack([patch_image(im, PATCH_SIZE) for im in test_imgs])"
   ]
  },
  {
   "cell_type": "code",
   "execution_count": null,
   "metadata": {
    "collapsed": true
   },
   "outputs": [],
   "source": [
    "test_windows = np.vstack([image_to_neighborhoods(im, WINDOW_SIZE, True) for im in patched_imgs])"
   ]
  },
  {
   "cell_type": "code",
   "execution_count": null,
   "metadata": {
    "collapsed": true
   },
   "outputs": [],
   "source": [
    "test_windows.shape"
   ]
  },
  {
   "cell_type": "code",
   "execution_count": null,
   "metadata": {
    "collapsed": true
   },
   "outputs": [],
   "source": [
    "predictions = window_cnn.predict(test_windows)"
   ]
  },
  {
   "cell_type": "code",
   "execution_count": null,
   "metadata": {
    "collapsed": true
   },
   "outputs": [],
   "source": []
  }
 ],
 "metadata": {
  "kernelspec": {
   "display_name": "Python 3",
   "language": "python",
   "name": "python3"
  },
  "language_info": {
   "codemirror_mode": {
    "name": "ipython",
    "version": 3
   },
   "file_extension": ".py",
   "mimetype": "text/x-python",
   "name": "python",
   "nbconvert_exporter": "python",
   "pygments_lexer": "ipython3",
   "version": "3.6.1"
  }
 },
 "nbformat": 4,
 "nbformat_minor": 2
}
