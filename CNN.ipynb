{
 "cells": [
  {
   "cell_type": "code",
   "execution_count": 1,
   "metadata": {
    "scrolled": false
   },
   "outputs": [
    {
     "name": "stderr",
     "output_type": "stream",
     "text": [
      "Using TensorFlow backend.\n"
     ]
    }
   ],
   "source": [
    "import time\n",
    "\n",
    "import matplotlib.image as mpimg\n",
    "import matplotlib.pyplot as plt\n",
    "%matplotlib inline\n",
    "%load_ext autoreload\n",
    "%autoreload 2\n",
    "import numpy as np\n",
    "\n",
    "import os, sys\n",
    "\n",
    "from preprocessing import *\n",
    "import image_preprocessing\n",
    "\n",
    "from skimage import color\n",
    "\n",
    "import keras\n",
    "\n",
    "from skimage.color import rgb2hsv\n",
    "\n",
    "from keras.layers import Conv2D, Dense, Flatten, MaxPooling2D, LeakyReLU, Dropout"
   ]
  },
  {
   "cell_type": "code",
   "execution_count": 2,
   "metadata": {
    "collapsed": true
   },
   "outputs": [],
   "source": [
    "ROOT_DIR = 'training/'\n",
    "IMAGE_DIR = ROOT_DIR + 'images/'\n",
    "GT_DIR = ROOT_DIR + 'groundtruth/'\n",
    "\n",
    "PATCH_SIZE = 10\n",
    "\n",
    "WINDOW_SIZE = 71"
   ]
  },
  {
   "cell_type": "code",
   "execution_count": null,
   "metadata": {
    "collapsed": true,
    "scrolled": true
   },
   "outputs": [],
   "source": [
    "files = os.listdir(IMAGE_DIR)\n",
    "\n",
    "imgs = np.stack([load_image(IMAGE_DIR + file) for file in files]) # images (400, 400, 3)\n",
    "gt_imgs = np.stack([load_image(GT_DIR + file) for file in files]) # images (400, 400)\n",
    "\n",
    "patched_imgs = np.stack([patch_image(img, PATCH_SIZE) for img in imgs]) # images (400, 400)\n",
    "patched_gts = np.stack([patch_groundtruth(gt, PATCH_SIZE) for gt in gt_imgs])"
   ]
  },
  {
   "cell_type": "code",
   "execution_count": null,
   "metadata": {
    "scrolled": true
   },
   "outputs": [],
   "source": [
    "PATCHED_SIZE = imgs.shape[1] // PATCH_SIZE\n",
    "WINDOWS_PER_IMAGE = PATCHED_SIZE ** 2"
   ]
  },
  {
   "cell_type": "code",
   "execution_count": null,
   "metadata": {
    "collapsed": true,
    "scrolled": true
   },
   "outputs": [],
   "source": [
    "N = 1 # Number of image to be used in training\n",
    "\n",
    "leakyness = 0.1"
   ]
  },
  {
   "cell_type": "code",
   "execution_count": null,
   "metadata": {
    "collapsed": true,
    "scrolled": true
   },
   "outputs": [],
   "source": [
    "windows_per_image = [image_to_neighborhoods(im, WINDOW_SIZE, True) for im in patched_imgs[:N]]\n",
    "windows = np.vstack(windows_per_image)\n",
    "\n",
    "window_labels = np.ravel(patched_gts[:N])\n",
    "assert window_labels.shape[0] == windows.shape[0]"
   ]
  },
  {
   "cell_type": "code",
   "execution_count": null,
   "metadata": {
    "collapsed": true
   },
   "outputs": [],
   "source": [
    "window_labels.shape"
   ]
  },
  {
   "cell_type": "code",
   "execution_count": null,
   "metadata": {
    "collapsed": true
   },
   "outputs": [],
   "source": [
    "window_labels = keras.utils.np_utils.to_categorical(window_labels)"
   ]
  },
  {
   "cell_type": "code",
   "execution_count": null,
   "metadata": {
    "collapsed": true,
    "scrolled": true
   },
   "outputs": [],
   "source": [
    "window_cnn = keras.models.Sequential([\n",
    "    \n",
    "    Conv2D(32, (5, 5), strides=(1, 1), input_shape=windows.shape[1:]),\n",
    "    LeakyReLU(leakyness),\n",
    "    \n",
    "    MaxPooling2D(2),\n",
    "    Dropout(0.25),\n",
    "\n",
    "    Conv2D(64, (3, 3), strides=(1, 1)),\n",
    "    LeakyReLU(leakyness),\n",
    "    \n",
    "    MaxPooling2D(2),\n",
    "    Dropout(0.25),\n",
    "    \n",
    "    Conv2D(128, (3, 3), strides=(1, 1)),\n",
    "    LeakyReLU(leakyness),\n",
    "    \n",
    "    MaxPooling2D(2),\n",
    "    Dropout(0.25),\n",
    "    \n",
    "    Conv2D(256, (3, 3), strides=(1, 1)),\n",
    "    LeakyReLU(leakyness),\n",
    "\n",
    "    MaxPooling2D(2),\n",
    "    Dropout(0.25),\n",
    "    \n",
    "    Dense(128),\n",
    "    LeakyReLU(leakyness),\n",
    "    \n",
    "    Flatten(),\n",
    "    Dense(2, activation='sigmoid'),\n",
    "])"
   ]
  },
  {
   "cell_type": "code",
   "execution_count": null,
   "metadata": {
    "collapsed": true,
    "scrolled": false
   },
   "outputs": [],
   "source": [
    "#window_cnn.summary()"
   ]
  },
  {
   "cell_type": "code",
   "execution_count": null,
   "metadata": {
    "collapsed": true,
    "scrolled": true
   },
   "outputs": [],
   "source": [
    "window_cnn.compile(loss=keras.losses.categorical_crossentropy, optimizer=keras.optimizers.Adam(lr=0.001), metrics=['accuracy'])"
   ]
  },
  {
   "cell_type": "code",
   "execution_count": null,
   "metadata": {
    "collapsed": true,
    "scrolled": true
   },
   "outputs": [],
   "source": [
    "nw = windows.shape[0]\n",
    "def batch_generator():\n",
    "    i = 0\n",
    "    while True:\n",
    "        print('Called', i)\n",
    "        i+=1\n",
    "        indices = np.random.choice(range(nw), 200, replace=False)\n",
    "        yield (windows[indices], window_labels[indices])"
   ]
  },
  {
   "cell_type": "code",
   "execution_count": null,
   "metadata": {
    "collapsed": true
   },
   "outputs": [],
   "source": [
    "def smart_generator(n_windows, n_epochs):\n",
    "    ws_per_epoch = n_windows // n_epochs\n",
    "    indices = np.random.choice(range(n_windows), n_epochs*ws_per_epoch, replace=False)\n",
    "    indices_per_epoch = [indices[i:i+ws_per_epoch] for i in range(0, n_windows, ws_per_epoch)]\n",
    "    for batch_idx in indices_per_epoch:\n",
    "        print(len(batch_idx))\n",
    "        ws = windows[batch_idx]\n",
    "        labs = window_labels[batch_idx]\n",
    "        yield (ws, labs)"
   ]
  },
  {
   "cell_type": "code",
   "execution_count": null,
   "metadata": {
    "collapsed": true
   },
   "outputs": [],
   "source": [
    "epochs = 10"
   ]
  },
  {
   "cell_type": "code",
   "execution_count": null,
   "metadata": {
    "collapsed": true,
    "scrolled": false
   },
   "outputs": [],
   "source": [
    "start = time.perf_counter()\n",
    "\n",
    "window_cnn.fit(windows, window_labels, epochs=epochs)#, batch_size=1600)\n",
    "#window_cnn.fit_generator(smart_generator(windows.shape[0], epochs), steps_per_epoch=windows.shape[0] // epochs, epochs=10)\n",
    "\n",
    "time.perf_counter() - start"
   ]
  },
  {
   "cell_type": "code",
   "execution_count": null,
   "metadata": {
    "collapsed": true
   },
   "outputs": [],
   "source": [
    "#window_cnn.save('backup')"
   ]
  },
  {
   "cell_type": "markdown",
   "metadata": {},
   "source": [
    "# Test on a never seen image"
   ]
  },
  {
   "cell_type": "code",
   "execution_count": null,
   "metadata": {
    "collapsed": true
   },
   "outputs": [],
   "source": [
    "i = 0"
   ]
  },
  {
   "cell_type": "code",
   "execution_count": null,
   "metadata": {
    "collapsed": true
   },
   "outputs": [],
   "source": [
    "plt.imshow(imgs[i])"
   ]
  },
  {
   "cell_type": "code",
   "execution_count": null,
   "metadata": {
    "collapsed": true
   },
   "outputs": [],
   "source": [
    "window_t = image_to_neighborhoods(patched_imgs[i], WINDOW_SIZE, True)"
   ]
  },
  {
   "cell_type": "code",
   "execution_count": null,
   "metadata": {
    "collapsed": true,
    "scrolled": true
   },
   "outputs": [],
   "source": [
    "preds = window_cnn.predict(window_t)"
   ]
  },
  {
   "cell_type": "code",
   "execution_count": null,
   "metadata": {
    "collapsed": true,
    "scrolled": true
   },
   "outputs": [],
   "source": [
    "plt.plot(np.sort(np.ravel(preds)))"
   ]
  },
  {
   "cell_type": "code",
   "execution_count": null,
   "metadata": {
    "collapsed": true
   },
   "outputs": [],
   "source": [
    "preds = (preds[:,1] > preds[:,0]) * 1"
   ]
  },
  {
   "cell_type": "code",
   "execution_count": null,
   "metadata": {
    "collapsed": true,
    "scrolled": false
   },
   "outputs": [],
   "source": [
    "f = preds\n",
    "f = np.reshape(f, (PATCHED_SIZE, PATCHED_SIZE))"
   ]
  },
  {
   "cell_type": "code",
   "execution_count": null,
   "metadata": {
    "collapsed": true,
    "scrolled": true
   },
   "outputs": [],
   "source": [
    "plt.imshow(patched_gts[i], cmap='Greys_r')"
   ]
  },
  {
   "cell_type": "code",
   "execution_count": null,
   "metadata": {
    "collapsed": true,
    "scrolled": true
   },
   "outputs": [],
   "source": [
    "plt.imshow(f, cmap='Greys_r')"
   ]
  },
  {
   "cell_type": "code",
   "execution_count": null,
   "metadata": {
    "collapsed": true,
    "scrolled": true
   },
   "outputs": [],
   "source": [
    "plt.imshow(np.hstack([patched_gts[i], f]), cmap='Greys_r')"
   ]
  },
  {
   "cell_type": "markdown",
   "metadata": {},
   "source": [
    "# Test data set"
   ]
  },
  {
   "cell_type": "code",
   "execution_count": 4,
   "metadata": {
    "collapsed": true
   },
   "outputs": [],
   "source": [
    "from keras.models import load_model\n",
    "import scipy\n",
    "window_cnn = load_model('trained_model_full.hdf5')\n"
   ]
  },
  {
   "cell_type": "code",
   "execution_count": 105,
   "metadata": {},
   "outputs": [
    {
     "name": "stdout",
     "output_type": "stream",
     "text": [
      "['test_13']\n"
     ]
    }
   ],
   "source": [
    "TEST_DIR = 'test_set_images/'\n",
    "PRED_DIR = 'pred_images/'\n",
    "test_files = os.listdir(TEST_DIR)\n",
    "WINDOW_SIZE = 71"
   ]
  },
  {
   "cell_type": "code",
   "execution_count": 106,
   "metadata": {},
   "outputs": [
    {
     "name": "stdout",
     "output_type": "stream",
     "text": [
      "test_13\n",
      "Read and windowed test_13\n",
      "Generated predictions\n",
      "Saved array\n",
      "test_14\n",
      "Read and windowed test_14\n",
      "Generated predictions\n",
      "Saved array\n",
      "test_22\n",
      "Read and windowed test_22\n",
      "Generated predictions\n",
      "Saved array\n",
      "test_25\n",
      "Read and windowed test_25\n",
      "Generated predictions\n",
      "Saved array\n",
      "test_49\n",
      "Read and windowed test_49\n",
      "Generated predictions\n",
      "Saved array\n",
      "test_40\n",
      "Read and windowed test_40\n",
      "Generated predictions\n",
      "Saved array\n",
      "test_47\n",
      "Read and windowed test_47\n",
      "Generated predictions\n",
      "Saved array\n",
      "test_24\n",
      "Read and windowed test_24\n",
      "Generated predictions\n",
      "Saved array\n",
      "test_23\n",
      "Read and windowed test_23\n",
      "Generated predictions\n",
      "Saved array\n",
      "test_15\n",
      "Read and windowed test_15\n",
      "Generated predictions\n",
      "Saved array\n",
      "test_12\n",
      "Read and windowed test_12\n",
      "Generated predictions\n",
      "Saved array\n",
      "test_46\n",
      "Read and windowed test_46\n",
      "Generated predictions\n",
      "Saved array\n",
      "test_41\n",
      "Read and windowed test_41\n",
      "Generated predictions\n",
      "Saved array\n",
      "test_48\n",
      "Read and windowed test_48\n",
      "Generated predictions\n",
      "Saved array\n",
      "test_30\n",
      "Read and windowed test_30\n",
      "Generated predictions\n",
      "Saved array\n",
      "test_37\n",
      "Read and windowed test_37\n",
      "Generated predictions\n",
      "Saved array\n",
      "test_39\n",
      "Read and windowed test_39\n",
      "Generated predictions\n",
      "Saved array\n",
      "test_38\n",
      "Read and windowed test_38\n",
      "Generated predictions\n",
      "Saved array\n",
      "test_36\n",
      "Read and windowed test_36\n",
      "Generated predictions\n",
      "Saved array\n",
      "test_31\n",
      "Read and windowed test_31\n",
      "Generated predictions\n",
      "Saved array\n",
      "test_9\n",
      "Read and windowed test_9\n",
      "Generated predictions\n",
      "Saved array\n",
      "test_7\n",
      "Read and windowed test_7\n",
      "Generated predictions\n",
      "Saved array\n",
      "test_1\n",
      "Read and windowed test_1\n",
      "Generated predictions\n",
      "Saved array\n",
      "test_6\n",
      "Read and windowed test_6\n",
      "Generated predictions\n",
      "Saved array\n",
      "test_8\n",
      "Read and windowed test_8\n",
      "Generated predictions\n",
      "Saved array\n",
      "test_44\n",
      "Read and windowed test_44\n",
      "Generated predictions\n",
      "Saved array\n",
      "test_43\n",
      "Read and windowed test_43\n",
      "Generated predictions\n",
      "Saved array\n",
      "test_17\n",
      "Read and windowed test_17\n",
      "Generated predictions\n",
      "Saved array\n",
      "test_28\n",
      "Read and windowed test_28\n",
      "Generated predictions\n",
      "Saved array\n",
      "test_10\n",
      "Read and windowed test_10\n",
      "Generated predictions\n",
      "Saved array\n",
      "test_26\n",
      "Read and windowed test_26\n",
      "Generated predictions\n",
      "Saved array\n",
      "test_19\n",
      "Read and windowed test_19\n",
      "Generated predictions\n",
      "Saved array\n",
      "test_21\n",
      "Read and windowed test_21\n",
      "Generated predictions\n",
      "Saved array\n",
      "test_42\n",
      "Read and windowed test_42\n",
      "Generated predictions\n",
      "Saved array\n",
      "test_45\n",
      "Read and windowed test_45\n",
      "Generated predictions\n",
      "Saved array\n",
      "test_20\n",
      "Read and windowed test_20\n",
      "Generated predictions\n",
      "Saved array\n",
      "test_27\n",
      "Read and windowed test_27\n",
      "Generated predictions\n",
      "Saved array\n",
      "test_18\n",
      "Read and windowed test_18\n",
      "Generated predictions\n",
      "Saved array\n",
      "test_11\n",
      "Read and windowed test_11\n",
      "Generated predictions\n",
      "Saved array\n",
      "test_16\n",
      "Read and windowed test_16\n",
      "Generated predictions\n",
      "Saved array\n",
      "test_29\n",
      "Read and windowed test_29\n",
      "Generated predictions\n",
      "Saved array\n",
      "test_34\n",
      "Read and windowed test_34\n",
      "Generated predictions\n",
      "Saved array\n",
      "test_33\n",
      "Read and windowed test_33\n",
      "Generated predictions\n",
      "Saved array\n",
      "test_32\n",
      "Read and windowed test_32\n",
      "Generated predictions\n",
      "Saved array\n",
      "test_35\n",
      "Read and windowed test_35\n",
      "Generated predictions\n",
      "Saved array\n",
      "test_50\n",
      "Read and windowed test_50\n",
      "Generated predictions\n",
      "Saved array\n",
      "test_3\n",
      "Read and windowed test_3\n",
      "Generated predictions\n",
      "Saved array\n",
      "test_4\n",
      "Read and windowed test_4\n",
      "Generated predictions\n",
      "Saved array\n",
      "test_5\n",
      "Read and windowed test_5\n",
      "Generated predictions\n",
      "Saved array\n",
      "test_2\n",
      "Read and windowed test_2\n",
      "Generated predictions\n",
      "Saved array\n"
     ]
    }
   ],
   "source": [
    "for file in test_files:\n",
    "    print(file)\n",
    "    filename = '{}{}/{}.png'.format(TEST_DIR, file, file)\n",
    "    img = load_image(filename)\n",
    "    img_m = reflect_padding(img, 1)\n",
    "    img_m = patch_image(img, 10)\n",
    "    windows = image_to_neighborhoods(img_m, WINDOW_SIZE, True)\n",
    "    print('Read and windowed', file)\n",
    "    preds = window_cnn.predict(windows)\n",
    "    print('Generated predictions')\n",
    "    preds = (preds[:,1] > preds[:,0]) * 1\n",
    "    preds = np.reshape(preds, img_m.shape[:2])\n",
    "    preds = unpatch(preds, 10)\n",
    "    preds = preds[1:-1, 1:-1]\n",
    "    assert preds.shape == img.shape[:2]\n",
    "    scipy.misc.imsave(PRED_DIR + file + '.png', preds)\n",
    "    print('Saved array')"
   ]
  },
  {
   "cell_type": "code",
   "execution_count": 87,
   "metadata": {},
   "outputs": [],
   "source": [
    "from mask_to_submission import *"
   ]
  },
  {
   "cell_type": "code",
   "execution_count": 108,
   "metadata": {},
   "outputs": [],
   "source": [
    "pre_files = os.listdir(PRED_DIR)"
   ]
  },
  {
   "cell_type": "code",
   "execution_count": 114,
   "metadata": {},
   "outputs": [],
   "source": [
    "image_filenames = []\n",
    "for name in pre_files:\n",
    "    image_filename = PRED_DIR + name\n",
    "    image_filenames.append(image_filename)"
   ]
  },
  {
   "cell_type": "code",
   "execution_count": 115,
   "metadata": {
    "scrolled": true
   },
   "outputs": [
    {
     "name": "stdout",
     "output_type": "stream",
     "text": [
      "pred_images/test_14.png\n",
      "pred_images/test_28.png\n",
      "pred_images/test_29.png\n",
      "pred_images/test_15.png\n",
      "pred_images/test_9.png\n",
      "pred_images/test_17.png\n",
      "pred_images/test_16.png\n",
      "pred_images/test_8.png\n",
      "pred_images/test_12.png\n",
      "pred_images/test_13.png\n",
      "pred_images/test_39.png\n",
      "pred_images/test_11.png\n",
      "pred_images/test_10.png\n",
      "pred_images/test_38.png\n",
      "pred_images/test_48.png\n",
      "pred_images/test_49.png\n",
      "pred_images/test_42.png\n",
      "pred_images/test_43.png\n",
      "pred_images/test_41.png\n",
      "pred_images/test_40.png\n",
      "pred_images/test_44.png\n",
      "pred_images/test_50.png\n",
      "pred_images/test_45.png\n",
      "pred_images/test_47.png\n",
      "pred_images/test_46.png\n",
      "pred_images/test_3.png\n",
      "pred_images/test_35.png\n",
      "pred_images/test_21.png\n",
      "pred_images/test_20.png\n",
      "pred_images/test_34.png\n",
      "pred_images/test_2.png\n",
      "pred_images/test_22.png\n",
      "pred_images/test_36.png\n",
      "pred_images/test_37.png\n",
      "pred_images/test_23.png\n",
      "pred_images/test_1.png\n",
      "pred_images/test_5.png\n",
      "pred_images/test_27.png\n",
      "pred_images/test_33.png\n",
      "pred_images/test_32.png\n",
      "pred_images/test_26.png\n",
      "pred_images/test_4.png\n",
      "pred_images/test_6.png\n",
      "pred_images/test_18.png\n",
      "pred_images/test_30.png\n",
      "pred_images/test_24.png\n",
      "pred_images/test_25.png\n",
      "pred_images/test_31.png\n",
      "pred_images/test_19.png\n",
      "pred_images/test_7.png\n"
     ]
    }
   ],
   "source": [
    "masks_to_submission('sub_test.csv', *image_filenames)"
   ]
  },
  {
   "cell_type": "code",
   "execution_count": null,
   "metadata": {
    "collapsed": true
   },
   "outputs": [],
   "source": []
  }
 ],
 "metadata": {
  "kernelspec": {
   "display_name": "Python 3",
   "language": "python",
   "name": "python3"
  },
  "language_info": {
   "codemirror_mode": {
    "name": "ipython",
    "version": 3
   },
   "file_extension": ".py",
   "mimetype": "text/x-python",
   "name": "python",
   "nbconvert_exporter": "python",
   "pygments_lexer": "ipython3",
   "version": "3.6.1"
  }
 },
 "nbformat": 4,
 "nbformat_minor": 2
}
