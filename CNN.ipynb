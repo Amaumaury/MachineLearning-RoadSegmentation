{
 "cells": [
  {
   "cell_type": "markdown",
   "metadata": {},
   "source": [
    "# CNN"
   ]
  },
  {
   "cell_type": "code",
   "execution_count": 38,
   "metadata": {},
   "outputs": [
    {
     "name": "stdout",
     "output_type": "stream",
     "text": [
      "The autoreload extension is already loaded. To reload it, use:\n",
      "  %reload_ext autoreload\n"
     ]
    }
   ],
   "source": [
    "import time\n",
    "\n",
    "import torch\n",
    "import torch.nn as nn\n",
    "from torch.autograd import Variable\n",
    "\n",
    "import matplotlib.image as mpimg\n",
    "import matplotlib.pyplot as plt\n",
    "%matplotlib inline\n",
    "%load_ext autoreload\n",
    "%autoreload 2\n",
    "import numpy as np\n",
    "\n",
    "import os, sys\n",
    "\n",
    "import utils\n",
    "\n",
    "from train import train\n",
    "\n",
    "from best_utils import *\n",
    "from cross_validation import cross_validation\n",
    "import image_preprocessing\n",
    "\n",
    "from skimage import color"
   ]
  },
  {
   "cell_type": "code",
   "execution_count": 39,
   "metadata": {
    "collapsed": true
   },
   "outputs": [],
   "source": [
    "ROOT_DIR = 'training/'\n",
    "IMAGE_DIR = ROOT_DIR + 'images/'"
   ]
  },
  {
   "cell_type": "code",
   "execution_count": 40,
   "metadata": {
    "collapsed": true
   },
   "outputs": [],
   "source": [
    "PATCH_SIZE = 8"
   ]
  },
  {
   "cell_type": "code",
   "execution_count": 41,
   "metadata": {},
   "outputs": [],
   "source": [
    "# Read images, change to hsv, saturate and stack into a tensor\n",
    "files = os.listdir(IMAGE_DIR)\n",
    "imgs = np.stack([image_preprocessing.saturate_hsv_img(color.rgb2hsv(load_image(IMAGE_DIR + file))) for file in files]) # images (400, 400, 3)\n",
    "\n",
    "# Read groundtruts into a tensor and threshold their values\n",
    "GT_DIR = ROOT_DIR + 'groundtruth/'\n",
    "gt_imgs = np.stack([crop_groundtruth(load_image(GT_DIR + file)) for file in files]) # images (400, 400)"
   ]
  },
  {
   "cell_type": "code",
   "execution_count": 42,
   "metadata": {},
   "outputs": [],
   "source": [
    "# Patch images and groundtruths\n",
    "patched_imgs = np.stack([patch_image(im, PATCH_SIZE) for im in imgs])\n",
    "patched_gts = np.stack([patch_groundtruth(gt, PATCH_SIZE) for gt in gt_imgs])"
   ]
  },
  {
   "cell_type": "code",
   "execution_count": 43,
   "metadata": {
    "collapsed": true
   },
   "outputs": [],
   "source": [
    "N = 5 # Number of image to be used in training"
   ]
  },
  {
   "cell_type": "code",
   "execution_count": 44,
   "metadata": {
    "collapsed": true
   },
   "outputs": [],
   "source": [
    "KERNEL_SIZE = 3\n",
    "KERNEL_RADIUS = (KERNEL_SIZE - 1) // 2"
   ]
  },
  {
   "cell_type": "code",
   "execution_count": 45,
   "metadata": {},
   "outputs": [],
   "source": [
    "X = torch.from_numpy(np.stack(patched_imgs[:N])).type(torch.FloatTensor)\n",
    "Y = torch.from_numpy(np.ravel(np.stack([drop_external_layers(g, KERNEL_RADIUS) for g in patched_gts[:N]]))).type(torch.LongTensor)"
   ]
  },
  {
   "cell_type": "code",
   "execution_count": 46,
   "metadata": {
    "collapsed": true
   },
   "outputs": [],
   "source": [
    "cnn = nn.Sequential(\n",
    "    NWHCtoNCWH(),\n",
    "    nn.Conv2d(3, 27, (KERNEL_SIZE, KERNEL_SIZE)),\n",
    "    nn.Sigmoid(),\n",
    "    NCWHtoNWHC(),\n",
    "    nn.Linear(27, 2),\n",
    "    nn.Tanh(),\n",
    "    Threshold(0)\n",
    ")"
   ]
  },
  {
   "cell_type": "code",
   "execution_count": 47,
   "metadata": {},
   "outputs": [
    {
     "name": "stdout",
     "output_type": "stream",
     "text": [
      "Epoch [1/10000], Loss: 0.6926\n",
      "Epoch [1001/10000], Loss: 0.3135\n",
      "Epoch [2001/10000], Loss: 0.2787\n",
      "Epoch [3001/10000], Loss: 0.2682\n",
      "Epoch [4001/10000], Loss: 0.2605\n",
      "Epoch [5001/10000], Loss: 0.2537\n",
      "Epoch [6001/10000], Loss: 0.2487\n",
      "Epoch [7001/10000], Loss: 0.2450\n",
      "Epoch [8001/10000], Loss: 0.2406\n",
      "Epoch [9001/10000], Loss: 0.2384\n",
      "113.6875842590016\n"
     ]
    }
   ],
   "source": [
    "optimizer = torch.optim.Adam(cnn.parameters(), lr=0.05)\n",
    "costf = torch.nn.CrossEntropyLoss()\n",
    "start = time.perf_counter()\n",
    "train(X, Y, cnn, costf, optimizer, 10000, 1000)\n",
    "print(time.perf_counter() - start)"
   ]
  },
  {
   "cell_type": "code",
   "execution_count": 48,
   "metadata": {},
   "outputs": [
    {
     "data": {
      "text/plain": [
       "array([-1.,  1.], dtype=float32)"
      ]
     },
     "execution_count": 48,
     "metadata": {},
     "output_type": "execute_result"
    },
    {
     "data": {
      "image/png": "[encoded data removed]",
      "text/plain": [
       "<matplotlib.figure.Figure at 0x7fc73c2f8160>"
      ]
     },
     "metadata": {},
     "output_type": "display_data"
    }
   ],
   "source": [
    "i = 12\n",
    "x_test = np.expand_dims(patched_imgs[i], axis=0)\n",
    "\n",
    "x_test = torch.from_numpy(x_test).type(torch.FloatTensor)\n",
    "\n",
    "preds = cnn(Variable(x_test))\n",
    "\n",
    "preds = preds.data.numpy()[:, 1]\n",
    "\n",
    "preds = np.squeeze(preds)\n",
    "\n",
    "preds = np.reshape(preds, (48, 48))\n",
    "\n",
    "#plt.figure(figsize=(10,10))\n",
    "#plt.imshow(preds, cmap='Greys_r')\n",
    "\n",
    "plt.plot(np.sort(np.ravel(preds)))\n",
    "\n",
    "preds[preds <= 0] = -1\n",
    "preds[preds > 0] = 1\n",
    "\n",
    "#plt.plot(np.sort(np.ravel(preds)))\n",
    "np.unique(preds)"
   ]
  },
  {
   "cell_type": "code",
   "execution_count": 49,
   "metadata": {},
   "outputs": [
    {
     "data": {
      "text/plain": [
       "<matplotlib.image.AxesImage at 0x7fc73c405ef0>"
      ]
     },
     "execution_count": 49,
     "metadata": {},
     "output_type": "execute_result"
    },
    {
     "data": {
      "image/png": "[encoded data removed]",
      "text/plain": [
       "<matplotlib.figure.Figure at 0x7fc73c2b2128>"
      ]
     },
     "metadata": {},
     "output_type": "display_data"
    }
   ],
   "source": [
    "ori = drop_external_layers(patched_gts[i], 1)\n",
    "\n",
    "plt.figure(figsize=(10,10))\n",
    "plt.imshow(np.hstack([preds, ori]), cmap='Greys_r')"
   ]
  }
 ],
 "metadata": {
  "kernelspec": {
   "display_name": "Python 3",
   "language": "python",
   "name": "python3"
  },
  "language_info": {
   "codemirror_mode": {
    "name": "ipython",
    "version": 3
   },
   "file_extension": ".py",
   "mimetype": "text/x-python",
   "name": "python",
   "nbconvert_exporter": "python",
   "pygments_lexer": "ipython3",
   "version": "3.6.1"
  }
 },
 "nbformat": 4,
 "nbformat_minor": 2
}
