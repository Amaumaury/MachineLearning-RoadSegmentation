{
 "cells": [
  {
   "cell_type": "code",
   "execution_count": 1,
   "metadata": {},
   "outputs": [],
   "source": [
    "import torch\n",
    "import torch.nn as nn\n",
    "from torch.autograd import Variable\n",
    "\n",
    "import matplotlib.image as mpimg\n",
    "import matplotlib.pyplot as plt\n",
    "%matplotlib inline\n",
    "%load_ext autoreload\n",
    "%autoreload 2\n",
    "import numpy as np\n",
    "\n",
    "import os, sys\n",
    "\n",
    "import utils"
   ]
  },
  {
   "cell_type": "code",
   "execution_count": 2,
   "metadata": {
    "collapsed": true
   },
   "outputs": [],
   "source": [
    "ROOT_DIR = 'training/'\n",
    "IMAGE_DIR = ROOT_DIR + 'images/'"
   ]
  },
  {
   "cell_type": "code",
   "execution_count": 3,
   "metadata": {
    "collapsed": true
   },
   "outputs": [],
   "source": [
    "def train(features, labels, model, lossfunc, optimizer, num_epoch):\n",
    "    x = features\n",
    "    y = labels\n",
    "    for epoch in range(num_epoch):\n",
    "\n",
    "        # TODO: Step 2 - compute model predictions and loss\n",
    "        preds = model(x)\n",
    "        loss = lossfunc(preds, y)\n",
    "        \n",
    "        optimizer.zero_grad()\n",
    "        loss.backward()\n",
    "        optimizer.step()\n",
    "        \n",
    "        if epoch % 10 == 0:\n",
    "            print ('Epoch [%d/%d], Loss: %.4f' \n",
    "                   %(epoch+1, num_epoch, loss.data[0]))\n",
    "\n",
    "def load_image(filename):\n",
    "    return mpimg.imread(filename)\n",
    "\n",
    "#def unstack(img):\n",
    "#    return np.array([img[:,:,c] for c in range(3)])\n",
    "\n",
    "#def restack(img):\n",
    "#    return np.stack(img, axis=-1)"
   ]
  },
  {
   "cell_type": "code",
   "execution_count": 4,
   "metadata": {
    "collapsed": true
   },
   "outputs": [],
   "source": [
    "# Read images\n",
    "files = os.listdir(IMAGE_DIR)\n",
    "imgs = [load_image(IMAGE_DIR + file) for file in files] # images (400, 400, 3)"
   ]
  },
  {
   "cell_type": "code",
   "execution_count": 5,
   "metadata": {
    "collapsed": true
   },
   "outputs": [],
   "source": [
    "# Build train tensor\n",
    "\n",
    "#X_var = Variable(torch.from_numpy(np.stack(imgs))) # tensor (N, W, H, C)\n",
    "X_var = Variable(torch.from_numpy(np.stack(imgs[:30])))"
   ]
  },
  {
   "cell_type": "code",
   "execution_count": 6,
   "metadata": {
    "collapsed": true
   },
   "outputs": [],
   "source": [
    "# Reshapers models\n",
    "\n",
    "class NCWHtoNWHC(nn.Module):\n",
    "    def __init__(self):\n",
    "        super(NCWHtoNWHC, self).__init__()\n",
    "    def forward(self, x):\n",
    "        return x.permute(0,2,3,1)\n",
    "    \n",
    "class NWHCtoNCWH(nn.Module):\n",
    "    def __init__(self):\n",
    "        super(NWHCtoNCWH, self).__init__()\n",
    "    def forward(self, x):\n",
    "        return x.permute(0, 3, 1, 2)\n",
    "    \n",
    "class Squeezer1(nn.Module):\n",
    "    def __init__(self):\n",
    "        super(Squeezer1, self).__init__()\n",
    "    def forward(self, x):\n",
    "        return x.squeeze(dim=1)"
   ]
  },
  {
   "cell_type": "code",
   "execution_count": 7,
   "metadata": {},
   "outputs": [],
   "source": [
    "# Funky and completely random model\n",
    "conv = nn.Sequential(\n",
    "    nn.Conv2d(in_channels=3,\n",
    "              out_channels=3,\n",
    "              kernel_size=3,\n",
    "              stride=1,\n",
    "              padding=1),\n",
    "    nn.ReLU(),\n",
    "    nn.Conv2d(in_channels=3,\n",
    "              out_channels=3,\n",
    "              kernel_size=3,\n",
    "              stride=1,\n",
    "              padding=1),\n",
    "    nn.ReLU(),\n",
    "    nn.MaxPool2d(kernel_size=2, stride=2),\n",
    "    \n",
    "    nn.Conv2d(in_channels=3,\n",
    "              out_channels=3,\n",
    "              kernel_size=3,\n",
    "              stride=1,\n",
    "              padding=1),\n",
    "    nn.ReLU(),\n",
    "    nn.Conv2d(in_channels=3,\n",
    "              out_channels=3,\n",
    "              kernel_size=3,\n",
    "              stride=1,\n",
    "              padding=1),\n",
    "    nn.ReLU(),\n",
    "    nn.MaxPool2d(kernel_size=2, stride=2),\n",
    "    \n",
    "    nn.Conv2d(in_channels=3,\n",
    "              out_channels=3,\n",
    "              kernel_size=3,\n",
    "              stride=1,\n",
    "              padding=1),\n",
    "    nn.ReLU(),\n",
    "    nn.Conv2d(in_channels=3,\n",
    "              out_channels=3,\n",
    "              kernel_size=3,\n",
    "              stride=1,\n",
    "              padding=1),\n",
    "    nn.ReLU(),\n",
    "    \n",
    "    nn.MaxPool2d(kernel_size=2, stride=2),\n",
    ")\n",
    "\n",
    "\n",
    "learn = nn.Sequential(\n",
    "    nn.Linear(3, 3),\n",
    "    nn.ReLU(),\n",
    "    nn.Linear(3, 3),\n",
    "    nn.ReLU(),\n",
    ")\n",
    "\n",
    "resize = nn.Sequential(\n",
    "    nn.Upsample(scale_factor=8),\n",
    "    Squeezer1() # From N,1,W,H to N,W,H\n",
    ")\n",
    "\n",
    "model = nn.Sequential(\n",
    "    NWHCtoNCWH(),\n",
    "    conv,\n",
    "    NCWHtoNWHC(),\n",
    "    learn,\n",
    "    nn.Linear(3, 1),\n",
    "    NWHCtoNCWH(),\n",
    "    resize\n",
    ")"
   ]
  },
  {
   "cell_type": "code",
   "execution_count": 8,
   "metadata": {
    "collapsed": true
   },
   "outputs": [],
   "source": [
    "lr = 0.001\n",
    "optimizer = torch.optim.SGD(model.parameters(), lr=lr)\n",
    "costf = torch.nn.L1Loss()"
   ]
  },
  {
   "cell_type": "code",
   "execution_count": 9,
   "metadata": {
    "collapsed": true
   },
   "outputs": [],
   "source": [
    "# Read groundtruts\n",
    "\n",
    "GT_DIR = ROOT_DIR + 'groundtruth/'\n",
    "gt_imgs = [load_image(GT_DIR + file) for file in files] # images (400, 400)"
   ]
  },
  {
   "cell_type": "code",
   "execution_count": 10,
   "metadata": {
    "collapsed": true
   },
   "outputs": [],
   "source": [
    "# Build groundtruth tensor\n",
    "\n",
    "#Y_var = Variable(torch.from_numpy(np.stack(gt_imgs)))\n",
    "Y_var = Variable(torch.from_numpy(np.stack(gt_imgs[:30])))"
   ]
  },
  {
   "cell_type": "code",
   "execution_count": 11,
   "metadata": {},
   "outputs": [
    {
     "name": "stdout",
     "output_type": "stream",
     "text": [
      "Epoch [1/50], Loss: 0.3211\n",
      "Epoch [11/50], Loss: 0.3050\n",
      "Epoch [21/50], Loss: 0.2998\n",
      "Epoch [31/50], Loss: 0.2649\n",
      "Epoch [41/50], Loss: 0.2518\n"
     ]
    }
   ],
   "source": [
    "train(X_var, Y_var, model, costf, optimizer, 50)"
   ]
  },
  {
   "cell_type": "code",
   "execution_count": 12,
   "metadata": {
    "collapsed": true
   },
   "outputs": [],
   "source": [
    "# Choose image to analyze\n",
    "img = imgs[0]"
   ]
  },
  {
   "cell_type": "code",
   "execution_count": 13,
   "metadata": {
    "collapsed": true
   },
   "outputs": [],
   "source": [
    "# Predict and give correct shape\n",
    "test_x = Variable(torch.from_numpy(img).unsqueeze(0))\n",
    "preds = model(test_x).squeeze(0).data.numpy()"
   ]
  },
  {
   "cell_type": "code",
   "execution_count": 14,
   "metadata": {},
   "outputs": [
    {
     "data": {
      "text/plain": [
       "-0.047275729"
      ]
     },
     "execution_count": 14,
     "metadata": {},
     "output_type": "execute_result"
    }
   ],
   "source": [
    "preds.max()"
   ]
  },
  {
   "cell_type": "code",
   "execution_count": null,
   "metadata": {
    "collapsed": true
   },
   "outputs": [],
   "source": [
    "preds[preds > 0.5] = 1\n",
    "preds[preds <= 0.5] = 0"
   ]
  },
  {
   "cell_type": "code",
   "execution_count": null,
   "metadata": {},
   "outputs": [],
   "source": [
    "# Draw\n",
    "cimg = utils.concatenate_images(img, preds)\n",
    "fig1 = plt.figure(figsize=(10, 10))\n",
    "plt.imshow(cimg, cmap='Greys_r')"
   ]
  },
  {
   "cell_type": "code",
   "execution_count": null,
   "metadata": {},
   "outputs": [],
   "source": [
    "new_img = utils.make_img_overlay(img, preds)\n",
    "plt.figure(figsize=(10,10))\n",
    "plt.imshow(new_img)"
   ]
  },
  {
   "cell_type": "code",
   "execution_count": null,
   "metadata": {
    "collapsed": true
   },
   "outputs": [],
   "source": []
  },
  {
   "cell_type": "code",
   "execution_count": null,
   "metadata": {
    "collapsed": true
   },
   "outputs": [],
   "source": []
  }
 ],
 "metadata": {
  "kernelspec": {
   "display_name": "Python 3",
   "language": "python",
   "name": "python3"
  },
  "language_info": {
   "codemirror_mode": {
    "name": "ipython",
    "version": 3
   },
   "file_extension": ".py",
   "mimetype": "text/x-python",
   "name": "python",
   "nbconvert_exporter": "python",
   "pygments_lexer": "ipython3",
   "version": "3.6.1"
  }
 },
 "nbformat": 4,
 "nbformat_minor": 2
}
