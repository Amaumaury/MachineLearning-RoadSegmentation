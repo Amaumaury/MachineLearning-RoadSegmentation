{
 "cells": [
  {
   "cell_type": "code",
   "execution_count": 1,
   "metadata": {
    "collapsed": true
   },
   "outputs": [],
   "source": [
    "import torch\n",
    "import torch.nn as nn\n",
    "from torch.autograd import Variable\n",
    "\n",
    "import matplotlib.image as mpimg\n",
    "import matplotlib.pyplot as plt\n",
    "%matplotlib inline\n",
    "%load_ext autoreload\n",
    "%autoreload 2\n",
    "import numpy as np\n",
    "\n",
    "import os, sys\n",
    "\n",
    "import utils"
   ]
  },
  {
   "cell_type": "markdown",
   "metadata": {},
   "source": [
    "# Preprocessing and import"
   ]
  },
  {
   "cell_type": "code",
   "execution_count": null,
   "metadata": {},
   "outputs": [],
   "source": [
    "# Reshapers models\n",
    "\n",
    "class NCWHtoNWHC(nn.Module):\n",
    "    def __init__(self):\n",
    "        super(NCWHtoNWHC, self).__init__()\n",
    "    def forward(self, x):\n",
    "        return x.permute(0,2,3,1)\n",
    "    \n",
    "class NWHCtoNCWH(nn.Module):\n",
    "    def __init__(self):\n",
    "        super(NWHCtoNCWH, self).__init__()\n",
    "    def forward(self, x):\n",
    "        return x.permute(0, 3, 1, 2)\n",
    "    \n",
    "class Squeezer1(nn.Module):\n",
    "    def __init__(self):\n",
    "        super(Squeezer1, self).__init__()\n",
    "    def forward(self, x):\n",
    "        return x.squeeze(dim=1)\n",
    "\n",
    "class Threshold(nn.Module):\n",
    "    def __init__(self, val):\n",
    "        super(Threshold, self).__init__()\n",
    "        self.val = val\n",
    "    def forward(self, x):\n",
    "        x[torch.lt(x, self.val).detach()] = -1\n",
    "        x[torch.ge(x, self.val).detach()] = 1\n",
    "        return x"
   ]
  },
  {
   "cell_type": "code",
   "execution_count": 2,
   "metadata": {
    "collapsed": true
   },
   "outputs": [],
   "source": [
    "ROOT_DIR = 'training/'\n",
    "IMAGE_DIR = ROOT_DIR + 'images/'"
   ]
  },
  {
   "cell_type": "code",
   "execution_count": 3,
   "metadata": {
    "collapsed": true
   },
   "outputs": [],
   "source": [
    "def train(features, labels, model, lossfunc, optimizer, num_epoch):\n",
    "    x = features\n",
    "    y = labels\n",
    "    for epoch in range(num_epoch):\n",
    "\n",
    "        # TODO: Step 2 - compute model predictions and loss\n",
    "        preds = model(x)\n",
    "        loss = lossfunc(preds, y)\n",
    "        \n",
    "        optimizer.zero_grad()\n",
    "        loss.backward()\n",
    "        optimizer.step()\n",
    "        \n",
    "        if epoch % 10 == 0:\n",
    "            print ('Epoch [%d/%d], Loss: %.4f' \n",
    "                   %(epoch+1, num_epoch, loss.data[0]))\n",
    "\n",
    "def load_image(filename):\n",
    "    return mpimg.imread(filename)\n",
    "\n",
    "#def unstack(img):\n",
    "#    return np.array([img[:,:,c] for c in range(3)])\n",
    "\n",
    "#def restack(img):\n",
    "#    return np.stack(img, axis=-1)"
   ]
  },
  {
   "cell_type": "code",
   "execution_count": 4,
   "metadata": {
    "collapsed": true
   },
   "outputs": [],
   "source": [
    "# Read images\n",
    "files = os.listdir(IMAGE_DIR)\n",
    "imgs = [load_image(IMAGE_DIR + file) for file in files] # images (400, 400, 3)"
   ]
  },
  {
   "cell_type": "code",
   "execution_count": 5,
   "metadata": {
    "collapsed": true
   },
   "outputs": [],
   "source": [
    "# Read groundtruts\n",
    "GT_DIR = ROOT_DIR + 'groundtruth/'\n",
    "gt_imgs = [load_image(GT_DIR + file) for file in files] # images (400, 400)"
   ]
  },
  {
   "cell_type": "markdown",
   "metadata": {},
   "source": [
    "# Matrix creation"
   ]
  },
  {
   "cell_type": "code",
   "execution_count": 6,
   "metadata": {},
   "outputs": [],
   "source": [
    "def image_to_features(img, kernel_size):\n",
    "    features = []\n",
    "    for i in range(img.shape[0] - (kernel_size - 1)):\n",
    "        for j in range(img.shape[1] - (kernel_size - 1)):\n",
    "            features.append(np.ravel(img[i : i + kernel_size, j : j + kernel_size]))\n",
    "    return np.array(features)"
   ]
  },
  {
   "cell_type": "code",
   "execution_count": 7,
   "metadata": {},
   "outputs": [],
   "source": [
    "#image_to_features(imgs[0], 3).shape"
   ]
  },
  {
   "cell_type": "code",
   "execution_count": 8,
   "metadata": {},
   "outputs": [],
   "source": [
    "features = np.vstack([image_to_features(img, 3) for img in imgs])"
   ]
  },
  {
   "cell_type": "code",
   "execution_count": 9,
   "metadata": {},
   "outputs": [
    {
     "data": {
      "text/plain": [
       "(15840400, 27)"
      ]
     },
     "execution_count": 9,
     "metadata": {},
     "output_type": "execute_result"
    }
   ],
   "source": [
    "features.shape"
   ]
  },
  {
   "cell_type": "code",
   "execution_count": 10,
   "metadata": {
    "collapsed": true
   },
   "outputs": [],
   "source": [
    "a = [[1,2,3,4],[5,6,7,8]]"
   ]
  },
  {
   "cell_type": "code",
   "execution_count": 11,
   "metadata": {
    "collapsed": true
   },
   "outputs": [],
   "source": [
    "def crop_groundtruth(img, kernel_size):\n",
    "    v = (kernel_size - 1) // 2\n",
    "    img[img < 0.5] = -1\n",
    "    img[img >= 0.5] = 1\n",
    "    return img[v : -v, v : -v]"
   ]
  },
  {
   "cell_type": "code",
   "execution_count": 12,
   "metadata": {},
   "outputs": [],
   "source": [
    "labels = [crop_groundtruth(gt, 3) for gt in gt_imgs]"
   ]
  },
  {
   "cell_type": "code",
   "execution_count": 13,
   "metadata": {},
   "outputs": [],
   "source": [
    "labels = np.ravel(labels)"
   ]
  },
  {
   "cell_type": "code",
   "execution_count": 16,
   "metadata": {
    "collapsed": true
   },
   "outputs": [],
   "source": [
    "X_var = Variable(torch.from_numpy(features))\n",
    "Y_var = Variable(torch.from_numpy(labels))"
   ]
  },
  {
   "cell_type": "code",
   "execution_count": 17,
   "metadata": {},
   "outputs": [],
   "source": [
    "linear = nn.Linear(27, 12)\n",
    "final_layer = nn.Linear(12, 1)\n",
    "model = nn.Sequential(linear, final_layer)"
   ]
  },
  {
   "cell_type": "code",
   "execution_count": 18,
   "metadata": {},
   "outputs": [
    {
     "name": "stdout",
     "output_type": "stream",
     "text": [
      "Epoch [1/75], Loss: 1.0358\n",
      "Epoch [11/75], Loss: 0.6107\n",
      "Epoch [21/75], Loss: 0.5838\n",
      "Epoch [31/75], Loss: 0.5734\n",
      "Epoch [41/75], Loss: 0.5735\n",
      "Epoch [51/75], Loss: 0.5740\n",
      "Epoch [61/75], Loss: 0.5750\n",
      "Epoch [71/75], Loss: 0.5754\n"
     ]
    }
   ],
   "source": [
    "lr = 0.1\n",
    "optimizer = torch.optim.SGD(model.parameters(), lr=lr)\n",
    "costf = torch.nn.MSELoss()\n",
    "\n",
    "train(X_var, Y_var, model, costf, optimizer, 75)"
   ]
  },
  {
   "cell_type": "code",
   "execution_count": 27,
   "metadata": {
    "collapsed": true
   },
   "outputs": [],
   "source": [
    "preds = model(Variable(torch.from_numpy(features[:398 * 398])))"
   ]
  },
  {
   "cell_type": "code",
   "execution_count": 28,
   "metadata": {},
   "outputs": [],
   "source": [
    "preds = preds.data.numpy()"
   ]
  },
  {
   "cell_type": "code",
   "execution_count": 29,
   "metadata": {},
   "outputs": [
    {
     "data": {
      "text/plain": [
       "[<matplotlib.lines.Line2D at 0x7f37d2ddacc0>]"
      ]
     },
     "execution_count": 29,
     "metadata": {},
     "output_type": "execute_result"
    },
    {
     "data": {
      "image/png": "[encoded data removed]",
      "text/plain": [
       "<matplotlib.figure.Figure at 0x7f37d2e62908>"
      ]
     },
     "metadata": {},
     "output_type": "display_data"
    }
   ],
   "source": [
    "plt.plot(np.sort(preds.ravel()))"
   ]
  },
  {
   "cell_type": "code",
   "execution_count": 30,
   "metadata": {
    "collapsed": true
   },
   "outputs": [],
   "source": [
    "def preds_to_tensor(preds, kernel_size, n, w, h):\n",
    "    return np.reshape(preds, (n, w - (kernel_size - 1), h - (kernel_size - 1)))"
   ]
  },
  {
   "cell_type": "code",
   "execution_count": 31,
   "metadata": {},
   "outputs": [],
   "source": [
    "t = preds_to_tensor(preds, 3, 1, 400, 400)"
   ]
  },
  {
   "cell_type": "code",
   "execution_count": 41,
   "metadata": {},
   "outputs": [
    {
     "data": {
      "text/plain": [
       "(398, 398)"
      ]
     },
     "execution_count": 41,
     "metadata": {},
     "output_type": "execute_result"
    }
   ],
   "source": [
    "t[0].shape"
   ]
  },
  {
   "cell_type": "markdown",
   "metadata": {},
   "source": [
    "# Old Shit"
   ]
  },
  {
   "cell_type": "code",
   "execution_count": null,
   "metadata": {
    "collapsed": true
   },
   "outputs": [],
   "source": [
    "# Build train tensor\n",
    "\n",
    "#X_var = Variable(torch.from_numpy(np.stack(imgs))) # tensor (N, W, H, C)\n",
    "X_var = Variable(torch.from_numpy(np.stack(imgs[:10])), requires_grad=False)"
   ]
  },
  {
   "cell_type": "code",
   "execution_count": null,
   "metadata": {
    "collapsed": true
   },
   "outputs": [],
   "source": []
  },
  {
   "cell_type": "code",
   "execution_count": null,
   "metadata": {},
   "outputs": [],
   "source": [
    "lr = 0.001\n",
    "optimizer = torch.optim.SGD(model.parameters(), lr=lr)\n",
    "costf = torch.nn.MSELoss()"
   ]
  },
  {
   "cell_type": "code",
   "execution_count": null,
   "metadata": {
    "collapsed": true
   },
   "outputs": [],
   "source": [
    "# Build groundtruth tensor\n",
    "\n",
    "#Y_var = Variable(torch.from_numpy(np.stack(gt_imgs)))\n",
    "Y_var = Variable(torch.from_numpy(np.stack(gt_imgs[:10])), requires_grad=False)"
   ]
  },
  {
   "cell_type": "code",
   "execution_count": null,
   "metadata": {},
   "outputs": [],
   "source": [
    "train(X_var, Y_var, model, costf, optimizer, 50)"
   ]
  },
  {
   "cell_type": "code",
   "execution_count": null,
   "metadata": {
    "collapsed": true
   },
   "outputs": [],
   "source": [
    "# Choose image to analyze\n",
    "img = imgs[0]"
   ]
  },
  {
   "cell_type": "code",
   "execution_count": null,
   "metadata": {
    "collapsed": true
   },
   "outputs": [],
   "source": [
    "# Predict and give correct shape\n",
    "test_x = Variable(torch.from_numpy(img).unsqueeze(0))\n",
    "preds = model(test_x).squeeze(0).data.numpy()"
   ]
  },
  {
   "cell_type": "code",
   "execution_count": null,
   "metadata": {},
   "outputs": [],
   "source": [
    "plt.plot(np.sort(np.ravel(preds)))"
   ]
  },
  {
   "cell_type": "code",
   "execution_count": null,
   "metadata": {},
   "outputs": [],
   "source": [
    "preds.max()"
   ]
  },
  {
   "cell_type": "code",
   "execution_count": null,
   "metadata": {},
   "outputs": [],
   "source": [
    "# Draw\n",
    "cimg = utils.concatenate_images(img, preds)\n",
    "fig1 = plt.figure(figsize=(10, 10))\n",
    "plt.imshow(cimg, cmap='Greys_r')"
   ]
  },
  {
   "cell_type": "code",
   "execution_count": null,
   "metadata": {},
   "outputs": [],
   "source": [
    "new_img = utils.make_img_overlay(img, preds)\n",
    "plt.figure(figsize=(10,10))\n",
    "plt.imshow(new_img)"
   ]
  },
  {
   "cell_type": "code",
   "execution_count": null,
   "metadata": {
    "collapsed": true
   },
   "outputs": [],
   "source": []
  }
 ],
 "metadata": {
  "kernelspec": {
   "display_name": "Python 3",
   "language": "python",
   "name": "python3"
  },
  "language_info": {
   "codemirror_mode": {
    "name": "ipython",
    "version": 3
   },
   "file_extension": ".py",
   "mimetype": "text/x-python",
   "name": "python",
   "nbconvert_exporter": "python",
   "pygments_lexer": "ipython3",
   "version": "3.6.1"
  }
 },
 "nbformat": 4,
 "nbformat_minor": 2
}
