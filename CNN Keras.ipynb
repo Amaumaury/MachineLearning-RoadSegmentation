{
 "cells": [
  {
   "cell_type": "code",
   "execution_count": 27,
   "metadata": {
    "scrolled": true
   },
   "outputs": [
    {
     "name": "stdout",
     "output_type": "stream",
     "text": [
      "The autoreload extension is already loaded. To reload it, use:\n",
      "  %reload_ext autoreload\n"
     ]
    }
   ],
   "source": [
    "import time\n",
    "\n",
    "import matplotlib.image as mpimg\n",
    "import matplotlib.pyplot as plt\n",
    "%matplotlib inline\n",
    "%load_ext autoreload\n",
    "%autoreload 2\n",
    "import numpy as np\n",
    "\n",
    "import os, sys\n",
    "\n",
    "import utils\n",
    "\n",
    "from best_utils import *\n",
    "from cross_validation import cross_validation\n",
    "import image_preprocessing\n",
    "\n",
    "from skimage import color\n",
    "\n",
    "import keras\n",
    "\n",
    "from skimage.color import rgb2hsv\n",
    "\n",
    "from keras.layers import Conv2D, Dense, Flatten, MaxPooling2D, LeakyReLU, Dropout"
   ]
  },
  {
   "cell_type": "code",
   "execution_count": 28,
   "metadata": {
    "collapsed": true
   },
   "outputs": [],
   "source": [
    "ROOT_DIR = 'training/'\n",
    "IMAGE_DIR = ROOT_DIR + 'images/'\n",
    "GT_DIR = ROOT_DIR + 'groundtruth/'\n",
    "\n",
    "PATCH_SIZE = 16"
   ]
  },
  {
   "cell_type": "code",
   "execution_count": 29,
   "metadata": {
    "scrolled": true
   },
   "outputs": [],
   "source": [
    "# Read images, change to hsv, saturate and stack into a tensor\n",
    "files = os.listdir(IMAGE_DIR)\n",
    "\n",
    "imgs = np.stack([load_image(IMAGE_DIR + file) for file in files]) # images (400, 400, 3)\n",
    "gt_imgs = np.stack([load_image(GT_DIR + file) for file in files]) # images (400, 400)\n",
    "\n",
    "patched_imgs = np.stack([patch_image(img, PATCH_SIZE) for img in imgs]) # images (400, 400)\n",
    "patched_gts = np.stack([patch_groundtruth(gt, PATCH_SIZE) for gt in gt_imgs])"
   ]
  },
  {
   "cell_type": "code",
   "execution_count": 30,
   "metadata": {
    "collapsed": true,
    "scrolled": true
   },
   "outputs": [],
   "source": [
    "PATCHED_SIZE = imgs.shape[1] // PATCH_SIZE\n",
    "WINDOW_SIZE = 71\n",
    "WINDOWS_PER_IMAGE = PATCHED_SIZE ** 2"
   ]
  },
  {
   "cell_type": "code",
   "execution_count": 31,
   "metadata": {
    "collapsed": true,
    "scrolled": true
   },
   "outputs": [],
   "source": [
    "N = 5 # Number of image to be used in training\n",
    "\n",
    "leakyness = 0.1"
   ]
  },
  {
   "cell_type": "code",
   "execution_count": 32,
   "metadata": {
    "scrolled": true
   },
   "outputs": [],
   "source": [
    "windows_per_image = [image_to_features(im, WINDOW_SIZE, True) for im in patched_imgs[:N]]\n",
    "windows = np.vstack(windows_per_image)\n",
    "\n",
    "window_labels = np.ravel(patched_gts[:N])\n",
    "assert window_labels.shape[0] == windows.shape[0]"
   ]
  },
  {
   "cell_type": "code",
   "execution_count": 33,
   "metadata": {
    "scrolled": true
   },
   "outputs": [],
   "source": [
    "window_cnn = keras.models.Sequential([\n",
    "    \n",
    "    Conv2D(32, (5, 5), strides=(1, 1), input_shape=windows.shape[1:]),\n",
    "    LeakyReLU(leakyness),\n",
    "    \n",
    "    MaxPooling2D(2),\n",
    "    Dropout(0.25),\n",
    "\n",
    "    Conv2D(64, (3, 3), strides=(1, 1)),\n",
    "    LeakyReLU(leakyness),\n",
    "    \n",
    "    MaxPooling2D(2),\n",
    "    Dropout(0.25),\n",
    "    \n",
    "    Conv2D(128, (3, 3), strides=(1, 1)),\n",
    "    LeakyReLU(leakyness),\n",
    "    \n",
    "    MaxPooling2D(2),\n",
    "    Dropout(0.25),\n",
    "    \n",
    "    Conv2D(256, (3, 3), strides=(1, 1)),\n",
    "    LeakyReLU(leakyness),\n",
    "\n",
    "    MaxPooling2D(2),\n",
    "    Dropout(0.25),\n",
    "    \n",
    "    Dense(128),\n",
    "    LeakyReLU(leakyness),\n",
    "    \n",
    "    Flatten(),\n",
    "    Dense(1, activation='sigmoid'),\n",
    "    #LeakyReLU(leakyness),\n",
    "])"
   ]
  },
  {
   "cell_type": "code",
   "execution_count": 34,
   "metadata": {
    "scrolled": false
   },
   "outputs": [
    {
     "name": "stdout",
     "output_type": "stream",
     "text": [
      "_________________________________________________________________\n",
      "Layer (type)                 Output Shape              Param #   \n",
      "=================================================================\n",
      "conv2d_5 (Conv2D)            (None, 67, 67, 32)        2432      \n",
      "_________________________________________________________________\n",
      "leaky_re_lu_6 (LeakyReLU)    (None, 67, 67, 32)        0         \n",
      "_________________________________________________________________\n",
      "max_pooling2d_5 (MaxPooling2 (None, 33, 33, 32)        0         \n",
      "_________________________________________________________________\n",
      "dropout_5 (Dropout)          (None, 33, 33, 32)        0         \n",
      "_________________________________________________________________\n",
      "conv2d_6 (Conv2D)            (None, 31, 31, 64)        18496     \n",
      "_________________________________________________________________\n",
      "leaky_re_lu_7 (LeakyReLU)    (None, 31, 31, 64)        0         \n",
      "_________________________________________________________________\n",
      "max_pooling2d_6 (MaxPooling2 (None, 15, 15, 64)        0         \n",
      "_________________________________________________________________\n",
      "dropout_6 (Dropout)          (None, 15, 15, 64)        0         \n",
      "_________________________________________________________________\n",
      "conv2d_7 (Conv2D)            (None, 13, 13, 128)       73856     \n",
      "_________________________________________________________________\n",
      "leaky_re_lu_8 (LeakyReLU)    (None, 13, 13, 128)       0         \n",
      "_________________________________________________________________\n",
      "max_pooling2d_7 (MaxPooling2 (None, 6, 6, 128)         0         \n",
      "_________________________________________________________________\n",
      "dropout_7 (Dropout)          (None, 6, 6, 128)         0         \n",
      "_________________________________________________________________\n",
      "conv2d_8 (Conv2D)            (None, 4, 4, 256)         295168    \n",
      "_________________________________________________________________\n",
      "leaky_re_lu_9 (LeakyReLU)    (None, 4, 4, 256)         0         \n",
      "_________________________________________________________________\n",
      "max_pooling2d_8 (MaxPooling2 (None, 2, 2, 256)         0         \n",
      "_________________________________________________________________\n",
      "dropout_8 (Dropout)          (None, 2, 2, 256)         0         \n",
      "_________________________________________________________________\n",
      "dense_3 (Dense)              (None, 2, 2, 128)         32896     \n",
      "_________________________________________________________________\n",
      "leaky_re_lu_10 (LeakyReLU)   (None, 2, 2, 128)         0         \n",
      "_________________________________________________________________\n",
      "flatten_2 (Flatten)          (None, 512)               0         \n",
      "_________________________________________________________________\n",
      "dense_4 (Dense)              (None, 1)                 513       \n",
      "=================================================================\n",
      "Total params: 423,361\n",
      "Trainable params: 423,361\n",
      "Non-trainable params: 0\n",
      "_________________________________________________________________\n"
     ]
    }
   ],
   "source": [
    "window_cnn.summary()"
   ]
  },
  {
   "cell_type": "code",
   "execution_count": 35,
   "metadata": {
    "collapsed": true,
    "scrolled": true
   },
   "outputs": [],
   "source": [
    "window_cnn.compile(loss=keras.losses.binary_crossentropy, optimizer=keras.optimizers.Adam(lr=0.001), metrics=['accuracy'])"
   ]
  },
  {
   "cell_type": "code",
   "execution_count": 36,
   "metadata": {
    "scrolled": true
   },
   "outputs": [],
   "source": [
    "nw = windows.shape[0]\n",
    "def batch_generator():\n",
    "    while True:\n",
    "        indices = np.random.choice(range(nw), 200, replace=False)\n",
    "        yield (windows[indices], window_labels[indices])"
   ]
  },
  {
   "cell_type": "code",
   "execution_count": 37,
   "metadata": {
    "collapsed": true
   },
   "outputs": [],
   "source": [
    "def smart_generator(n_windows, n_epochs):\n",
    "    ws_per_epoch = n_windows // n_epochs\n",
    "    indices = np.random.choice(range(n_windows), n_epochs*ws_per_epoch, replace=False)\n",
    "    indices_per_epoch = [indices[i:i+ws_per_epoch] for i in range(0, n_windows, ws_per_epoch)]\n",
    "    for batch_idx in indices_per_epoch:\n",
    "        ws = windows[batch_idx]\n",
    "        labs = window_labels[batch_idx]\n",
    "        yield (ws, labs)"
   ]
  },
  {
   "cell_type": "code",
   "execution_count": 38,
   "metadata": {
    "collapsed": true
   },
   "outputs": [],
   "source": [
    "epochs = 10"
   ]
  },
  {
   "cell_type": "code",
   "execution_count": 39,
   "metadata": {
    "scrolled": false
   },
   "outputs": [
    {
     "name": "stdout",
     "output_type": "stream",
     "text": [
      "Epoch 1/10\n",
      "3125/3125 [==============================] - 55s - loss: 0.6231 - acc: 0.7264     \n",
      "Epoch 2/10\n",
      "3125/3125 [==============================] - 55s - loss: 0.5905 - acc: 0.7322     \n",
      "Epoch 3/10\n",
      "3125/3125 [==============================] - 54s - loss: 0.5885 - acc: 0.7322     \n",
      "Epoch 4/10\n",
      "3125/3125 [==============================] - 48s - loss: 0.5863 - acc: 0.7322    \n",
      "Epoch 5/10\n",
      "3125/3125 [==============================] - 47s - loss: 0.5852 - acc: 0.7322    \n",
      "Epoch 6/10\n",
      "3125/3125 [==============================] - 46s - loss: 0.5862 - acc: 0.7322    \n",
      "Epoch 7/10\n",
      "3125/3125 [==============================] - 46s - loss: 0.5836 - acc: 0.7322    \n",
      "Epoch 8/10\n",
      "3125/3125 [==============================] - 48s - loss: 0.5831 - acc: 0.7322    \n",
      "Epoch 9/10\n",
      "3125/3125 [==============================] - 46s - loss: 0.5865 - acc: 0.7322    \n",
      "Epoch 10/10\n",
      "3125/3125 [==============================] - 49s - loss: 0.5878 - acc: 0.7322    \n"
     ]
    },
    {
     "data": {
      "text/plain": [
       "501.44025828899976"
      ]
     },
     "execution_count": 39,
     "metadata": {},
     "output_type": "execute_result"
    }
   ],
   "source": [
    "start = time.perf_counter()\n",
    "\n",
    "window_cnn.fit(windows, window_labels, epochs=epochs, batch_size=625)\n",
    "#window_cnn.fit_generator(smart_generator(windows.shape[0], epochs), steps_per_epoch=windows.shape[0] // epochs, epochs=10)\n",
    "\n",
    "time.perf_counter() - start"
   ]
  },
  {
   "cell_type": "code",
   "execution_count": 40,
   "metadata": {},
   "outputs": [],
   "source": [
    "from keras import backend as K"
   ]
  },
  {
   "cell_type": "code",
   "execution_count": 41,
   "metadata": {},
   "outputs": [
    {
     "ename": "AttributeError",
     "evalue": "module 'keras.backend.tensorflow_backend' has no attribute '_get_available_gpus'",
     "output_type": "error",
     "traceback": [
      "\u001b[0;31m---------------------------------------------------------------------------\u001b[0m",
      "\u001b[0;31mAttributeError\u001b[0m                            Traceback (most recent call last)",
      "\u001b[0;32m<ipython-input-41-edc4be533ad9>\u001b[0m in \u001b[0;36m<module>\u001b[0;34m()\u001b[0m\n\u001b[0;32m----> 1\u001b[0;31m \u001b[0mK\u001b[0m\u001b[0;34m.\u001b[0m\u001b[0mtensorflow_backend\u001b[0m\u001b[0;34m.\u001b[0m\u001b[0m_get_available_gpus\u001b[0m\u001b[0;34m(\u001b[0m\u001b[0;34m)\u001b[0m\u001b[0;34m\u001b[0m\u001b[0m\n\u001b[0m",
      "\u001b[0;31mAttributeError\u001b[0m: module 'keras.backend.tensorflow_backend' has no attribute '_get_available_gpus'"
     ]
    }
   ],
   "source": [
    "K.tensorflow_backend._get_available_gpus()"
   ]
  },
  {
   "cell_type": "markdown",
   "metadata": {},
   "source": [
    "# Test on a never seen image"
   ]
  },
  {
   "cell_type": "code",
   "execution_count": null,
   "metadata": {
    "collapsed": true
   },
   "outputs": [],
   "source": [
    "i = 1"
   ]
  },
  {
   "cell_type": "code",
   "execution_count": null,
   "metadata": {},
   "outputs": [],
   "source": [
    "plt.imshow(imgs[i])"
   ]
  },
  {
   "cell_type": "code",
   "execution_count": null,
   "metadata": {
    "collapsed": true
   },
   "outputs": [],
   "source": [
    "window_t = image_to_features(patched_imgs[i], WINDOW_SIZE, True)"
   ]
  },
  {
   "cell_type": "code",
   "execution_count": null,
   "metadata": {
    "scrolled": true
   },
   "outputs": [],
   "source": [
    "preds = window_cnn.predict(window_t)"
   ]
  },
  {
   "cell_type": "code",
   "execution_count": null,
   "metadata": {
    "scrolled": false
   },
   "outputs": [],
   "source": [
    "f = np.ravel(preds)\n",
    "f = np.reshape(f, (25, 25))"
   ]
  },
  {
   "cell_type": "code",
   "execution_count": null,
   "metadata": {
    "scrolled": true
   },
   "outputs": [],
   "source": [
    "plt.plot(np.sort(np.ravel(f)))"
   ]
  },
  {
   "cell_type": "code",
   "execution_count": null,
   "metadata": {
    "collapsed": true,
    "scrolled": true
   },
   "outputs": [],
   "source": [
    "f[f < 0.5] = 0\n",
    "f[f >= 0.5] = 1"
   ]
  },
  {
   "cell_type": "code",
   "execution_count": null,
   "metadata": {
    "scrolled": true
   },
   "outputs": [],
   "source": [
    "plt.imshow(patched_gts[i], cmap='Greys_r')"
   ]
  },
  {
   "cell_type": "code",
   "execution_count": 25,
   "metadata": {
    "scrolled": true
   },
   "outputs": [
    {
     "data": {
      "text/plain": [
       "<matplotlib.image.AxesImage at 0x7fa8605772b0>"
      ]
     },
     "execution_count": 25,
     "metadata": {},
     "output_type": "execute_result"
    },
    {
     "data": {
      "image/png": "[encoded data removed]",
      "text/plain": [
       "<matplotlib.figure.Figure at 0x7fa85211e128>"
      ]
     },
     "metadata": {},
     "output_type": "display_data"
    }
   ],
   "source": [
    "plt.imshow(f, cmap='Greys_r')"
   ]
  },
  {
   "cell_type": "code",
   "execution_count": 26,
   "metadata": {
    "scrolled": true
   },
   "outputs": [
    {
     "data": {
      "text/plain": [
       "<matplotlib.image.AxesImage at 0x7fa86054e0f0>"
      ]
     },
     "execution_count": 26,
     "metadata": {},
     "output_type": "execute_result"
    },
    {
     "data": {
      "image/png": "[encoded data removed]",
      "text/plain": [
       "<matplotlib.figure.Figure at 0x7fa86064b400>"
      ]
     },
     "metadata": {},
     "output_type": "display_data"
    }
   ],
   "source": [
    "plt.imshow(np.hstack([patched_gts[i], f]), cmap='Greys_r')"
   ]
  },
  {
   "cell_type": "code",
   "execution_count": null,
   "metadata": {
    "collapsed": true
   },
   "outputs": [],
   "source": []
  }
 ],
 "metadata": {
  "kernelspec": {
   "display_name": "Python 3",
   "language": "python",
   "name": "python3"
  },
  "language_info": {
   "codemirror_mode": {
    "name": "ipython",
    "version": 3
   },
   "file_extension": ".py",
   "mimetype": "text/x-python",
   "name": "python",
   "nbconvert_exporter": "python",
   "pygments_lexer": "ipython3",
   "version": "3.6.1"
  }
 },
 "nbformat": 4,
 "nbformat_minor": 2
}
